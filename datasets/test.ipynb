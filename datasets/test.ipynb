{
 "cells": [
  {
   "cell_type": "code",
   "execution_count": 1,
   "metadata": {},
   "outputs": [],
   "source": [
    "from PIL import Image\n",
    "import numpy as np\n",
    "import os\n",
    "import cv2"
   ]
  },
  {
   "cell_type": "code",
   "execution_count": 2,
   "metadata": {},
   "outputs": [],
   "source": [
    "img = np.array(Image.open('./Set5/baby.png'))"
   ]
  },
  {
   "cell_type": "code",
   "execution_count": 3,
   "metadata": {},
   "outputs": [
    {
     "data": {
      "text/plain": [
       "dtype('uint8')"
      ]
     },
     "execution_count": 3,
     "metadata": {},
     "output_type": "execute_result"
    }
   ],
   "source": [
    "img.dtype"
   ]
  },
  {
   "cell_type": "code",
   "execution_count": null,
   "metadata": {},
   "outputs": [],
   "source": []
  },
  {
   "cell_type": "code",
   "execution_count": 6,
   "metadata": {},
   "outputs": [
    {
     "name": "stdout",
     "output_type": "stream",
     "text": [
      "h:  512 w:  512\n"
     ]
    }
   ],
   "source": [
    "h,w,_ = img.shape\n",
    "print(\"h: \", h, \"w: \", w)"
   ]
  },
  {
   "cell_type": "code",
   "execution_count": 7,
   "metadata": {},
   "outputs": [],
   "source": [
    "img = img[:,:,0]"
   ]
  },
  {
   "cell_type": "code",
   "execution_count": 8,
   "metadata": {},
   "outputs": [
    {
     "data": {
      "text/plain": [
       "array([[252, 252, 252, ..., 254, 254, 254],\n",
       "       [252, 252, 252, ..., 254, 254, 254],\n",
       "       [252, 252, 252, ..., 254, 254, 254],\n",
       "       ...,\n",
       "       [ 77,  85,  86, ...,  63,  63,  63],\n",
       "       [ 68,  72,  74, ...,  65,  64,  64],\n",
       "       [ 63,  66,  67, ...,  66,  66,  65]], dtype=uint8)"
      ]
     },
     "execution_count": 8,
     "metadata": {},
     "output_type": "execute_result"
    }
   ],
   "source": [
    "img"
   ]
  },
  {
   "cell_type": "markdown",
   "metadata": {},
   "source": [
    "use Image.fromarray"
   ]
  },
  {
   "cell_type": "code",
   "execution_count": 10,
   "metadata": {},
   "outputs": [],
   "source": [
    "PIL_bilinear = Image.fromarray(img).resize([1024,1024], resample=Image.BILINEAR)"
   ]
  },
  {
   "cell_type": "code",
   "execution_count": 11,
   "metadata": {},
   "outputs": [
    {
     "data": {
      "text/plain": [
       "array([[252, 252, 252, ..., 254, 254, 254],\n",
       "       [252, 252, 252, ..., 254, 254, 254],\n",
       "       [252, 252, 252, ..., 254, 254, 254],\n",
       "       ...,\n",
       "       [ 67,  68,  70, ...,  65,  64,  64],\n",
       "       [ 64,  65,  67, ...,  66,  65,  65],\n",
       "       [ 63,  64,  65, ...,  66,  65,  65]], dtype=uint8)"
      ]
     },
     "execution_count": 11,
     "metadata": {},
     "output_type": "execute_result"
    }
   ],
   "source": [
    "np.array(PIL_bilinear)"
   ]
  },
  {
   "cell_type": "code",
   "execution_count": 12,
   "metadata": {},
   "outputs": [
    {
     "data": {
      "text/plain": [
       "(1024, 1024)"
      ]
     },
     "execution_count": 12,
     "metadata": {},
     "output_type": "execute_result"
    }
   ],
   "source": [
    "np.array(PIL_bilinear).shape"
   ]
  },
  {
   "cell_type": "code",
   "execution_count": null,
   "metadata": {},
   "outputs": [],
   "source": []
  },
  {
   "cell_type": "markdown",
   "metadata": {},
   "source": [
    "use transform"
   ]
  },
  {
   "cell_type": "code",
   "execution_count": 15,
   "metadata": {},
   "outputs": [],
   "source": [
    "from scipy import interpolate\n",
    "def bilinear(img, scale):\n",
    "    '''\n",
    "        if img.shape = [2,2], output.shape = [2*scale-1, 2*scale-1]\n",
    "        e.g. scale = x2, the kernel for bilinear is 4\n",
    "        so when h,w = img.shape, the bilinear upsampled image is 2*h-1, 2*w-1,\n",
    "    '''\n",
    "    img = np.float32(img)\n",
    "    h, w = img.shape\n",
    "    hgrid = np.linspace(0, h-1, h)\n",
    "    wgrid = np.linspace(0, w-1, w)\n",
    "    bilinearInterp = interpolate.interp2d(wgrid, hgrid, img, kind=\"linear\")\n",
    "    hgrid = np.linspace(0, h-1, h*scale-1)\n",
    "    wgrid = np.linspace(0, w-1, w*scale-1)\n",
    "    upsampled = bilinearInterp(wgrid, hgrid)\n",
    "    return upsampled"
   ]
  },
  {
   "cell_type": "code",
   "execution_count": 16,
   "metadata": {},
   "outputs": [
    {
     "data": {
      "text/plain": [
       "array([[252.  , 252.  , 252.  , ..., 254.  , 254.  , 254.  ],\n",
       "       [252.  , 252.  , 252.  , ..., 254.  , 254.  , 254.  ],\n",
       "       [252.  , 252.  , 252.  , ..., 254.  , 254.  , 254.  ],\n",
       "       ...,\n",
       "       [ 68.  ,  70.  ,  72.  , ...,  64.  ,  64.  ,  64.  ],\n",
       "       [ 65.5 ,  67.25,  69.  , ...,  65.  ,  64.75,  64.5 ],\n",
       "       [ 63.  ,  64.5 ,  66.  , ...,  66.  ,  65.5 ,  65.  ]])"
      ]
     },
     "execution_count": 16,
     "metadata": {},
     "output_type": "execute_result"
    }
   ],
   "source": [
    "bilinear(img, 2)"
   ]
  },
  {
   "cell_type": "code",
   "execution_count": 17,
   "metadata": {},
   "outputs": [
    {
     "data": {
      "text/plain": [
       "(1023, 1023)"
      ]
     },
     "execution_count": 17,
     "metadata": {},
     "output_type": "execute_result"
    }
   ],
   "source": [
    "bilinear(img, 2).shape"
   ]
  },
  {
   "cell_type": "code",
   "execution_count": null,
   "metadata": {},
   "outputs": [],
   "source": []
  },
  {
   "cell_type": "code",
   "execution_count": null,
   "metadata": {},
   "outputs": [],
   "source": []
  },
  {
   "cell_type": "markdown",
   "metadata": {},
   "source": [
    "use opencv2"
   ]
  },
  {
   "cell_type": "code",
   "execution_count": 24,
   "metadata": {},
   "outputs": [
    {
     "data": {
      "text/plain": [
       "array([[252.    , 252.    , 252.    , ..., 254.    , 254.    , 254.    ],\n",
       "       [252.    , 252.    , 252.    , ..., 254.    , 254.    , 254.    ],\n",
       "       [252.    , 252.    , 252.    , ..., 254.    , 254.    , 254.    ],\n",
       "       ...,\n",
       "       [ 66.75  ,  67.6875,  69.5625, ...,  64.4375,  64.3125,  64.25  ],\n",
       "       [ 64.25  ,  65.0625,  66.6875, ...,  65.3125,  64.9375,  64.75  ],\n",
       "       [ 63.    ,  63.75  ,  65.25  , ...,  65.75  ,  65.25  ,  65.    ]],\n",
       "      dtype=float32)"
      ]
     },
     "execution_count": 24,
     "metadata": {},
     "output_type": "execute_result"
    }
   ],
   "source": [
    "cv2.resize(img.astype(np.float32), (0,0), fx=2, fy=2, interpolation=cv2.INTER_LINEAR)"
   ]
  },
  {
   "cell_type": "code",
   "execution_count": null,
   "metadata": {},
   "outputs": [],
   "source": []
  },
  {
   "cell_type": "code",
   "execution_count": 22,
   "metadata": {},
   "outputs": [
    {
     "data": {
      "text/plain": [
       "array([[252.     , 252.     , 252.     , ..., 254.     , 254.     ,\n",
       "        254.     ],\n",
       "       [252.     , 252.     , 252.     , ..., 254.     , 254.     ,\n",
       "        254.     ],\n",
       "       [252.     , 252.     , 252.     , ..., 254.     , 254.     ,\n",
       "        254.     ],\n",
       "       ...,\n",
       "       [ 66.75611,  67.69666,  69.57411, ...,  64.43567,  64.31116,\n",
       "         64.24878],\n",
       "       [ 64.25366,  65.06873,  66.69569, ...,  65.31213,  64.93713,\n",
       "         64.74927],\n",
       "       [ 63.     ,  63.7522 ,  65.25366, ...,  65.75122,  65.25073,\n",
       "         65.     ]], dtype=float32)"
      ]
     },
     "execution_count": 22,
     "metadata": {},
     "output_type": "execute_result"
    }
   ],
   "source": [
    "cv2.resize(img.astype(np.float32), (1023,1023),  interpolation=cv2.INTER_LINEAR)"
   ]
  },
  {
   "cell_type": "code",
   "execution_count": null,
   "metadata": {},
   "outputs": [],
   "source": []
  },
  {
   "cell_type": "code",
   "execution_count": null,
   "metadata": {},
   "outputs": [],
   "source": []
  },
  {
   "cell_type": "code",
   "execution_count": null,
   "metadata": {},
   "outputs": [],
   "source": []
  },
  {
   "cell_type": "code",
   "execution_count": 28,
   "metadata": {},
   "outputs": [],
   "source": [
    "timage = np.array([[1,3],[3,5]], dtype=np.float32)"
   ]
  },
  {
   "cell_type": "code",
   "execution_count": 29,
   "metadata": {},
   "outputs": [
    {
     "data": {
      "text/plain": [
       "array([[1., 3.],\n",
       "       [3., 5.]], dtype=float32)"
      ]
     },
     "execution_count": 29,
     "metadata": {},
     "output_type": "execute_result"
    }
   ],
   "source": [
    "timage"
   ]
  },
  {
   "cell_type": "code",
   "execution_count": 32,
   "metadata": {},
   "outputs": [
    {
     "data": {
      "text/plain": [
       "array([[1. , 1.5, 2.5, 3. ],\n",
       "       [1.5, 2. , 3. , 3.5],\n",
       "       [2.5, 3. , 4. , 4.5],\n",
       "       [3. , 3.5, 4.5, 5. ]], dtype=float32)"
      ]
     },
     "execution_count": 32,
     "metadata": {},
     "output_type": "execute_result"
    }
   ],
   "source": [
    "cv2.resize(timage.astype(np.float32), (4,4),  interpolation=cv2.INTER_LINEAR)"
   ]
  },
  {
   "cell_type": "code",
   "execution_count": null,
   "metadata": {},
   "outputs": [],
   "source": []
  }
 ],
 "metadata": {
  "kernelspec": {
   "display_name": "Python 3",
   "language": "python",
   "name": "python3"
  },
  "language_info": {
   "codemirror_mode": {
    "name": "ipython",
    "version": 3
   },
   "file_extension": ".py",
   "mimetype": "text/x-python",
   "name": "python",
   "nbconvert_exporter": "python",
   "pygments_lexer": "ipython3",
   "version": "3.5.2"
  }
 },
 "nbformat": 4,
 "nbformat_minor": 2
}
